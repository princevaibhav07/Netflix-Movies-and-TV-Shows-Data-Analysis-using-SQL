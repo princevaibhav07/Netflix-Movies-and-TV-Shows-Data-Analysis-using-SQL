{
 "cells": [
  {
   "cell_type": "code",
   "execution_count": 1,
   "id": "61ba5195",
   "metadata": {},
   "outputs": [],
   "source": [
    "import sqlite3\n",
    "import pandas as pd"
   ]
  },
  {
   "cell_type": "code",
   "execution_count": 2,
   "id": "555ea539",
   "metadata": {},
   "outputs": [
    {
     "data": {
      "text/plain": [
       "8807"
      ]
     },
     "execution_count": 2,
     "metadata": {},
     "output_type": "execute_result"
    }
   ],
   "source": [
    "# Connect to SQLite (create a database in memory)\n",
    "conn = sqlite3.connect(':memory:') \n",
    "\n",
    "# Load CSV files into pandas DataFrames\n",
    "netflix_data = pd.read_csv('netflix_titles.csv')\n",
    "\n",
    "# Load DataFrames into SQLite tables\n",
    "netflix_data.to_sql('netflix_data', conn, index=False, if_exists='replace')"
   ]
  },
  {
   "cell_type": "code",
   "execution_count": 3,
   "id": "92bbffc6",
   "metadata": {},
   "outputs": [
    {
     "data": {
      "text/html": [
       "<div>\n",
       "<style scoped>\n",
       "    .dataframe tbody tr th:only-of-type {\n",
       "        vertical-align: middle;\n",
       "    }\n",
       "\n",
       "    .dataframe tbody tr th {\n",
       "        vertical-align: top;\n",
       "    }\n",
       "\n",
       "    .dataframe thead th {\n",
       "        text-align: right;\n",
       "    }\n",
       "</style>\n",
       "<table border=\"1\" class=\"dataframe\">\n",
       "  <thead>\n",
       "    <tr style=\"text-align: right;\">\n",
       "      <th></th>\n",
       "      <th>show_id</th>\n",
       "      <th>type</th>\n",
       "      <th>title</th>\n",
       "      <th>director</th>\n",
       "      <th>cast</th>\n",
       "      <th>country</th>\n",
       "      <th>date_added</th>\n",
       "      <th>release_year</th>\n",
       "      <th>rating</th>\n",
       "      <th>duration</th>\n",
       "      <th>listed_in</th>\n",
       "      <th>description</th>\n",
       "    </tr>\n",
       "  </thead>\n",
       "  <tbody>\n",
       "    <tr>\n",
       "      <th>0</th>\n",
       "      <td>s1</td>\n",
       "      <td>Movie</td>\n",
       "      <td>Dick Johnson Is Dead</td>\n",
       "      <td>Kirsten Johnson</td>\n",
       "      <td>NaN</td>\n",
       "      <td>United States</td>\n",
       "      <td>September 25, 2021</td>\n",
       "      <td>2020</td>\n",
       "      <td>PG-13</td>\n",
       "      <td>90 min</td>\n",
       "      <td>Documentaries</td>\n",
       "      <td>As her father nears the end of his life, filmm...</td>\n",
       "    </tr>\n",
       "    <tr>\n",
       "      <th>1</th>\n",
       "      <td>s2</td>\n",
       "      <td>TV Show</td>\n",
       "      <td>Blood &amp; Water</td>\n",
       "      <td>NaN</td>\n",
       "      <td>Ama Qamata, Khosi Ngema, Gail Mabalane, Thaban...</td>\n",
       "      <td>South Africa</td>\n",
       "      <td>September 24, 2021</td>\n",
       "      <td>2021</td>\n",
       "      <td>TV-MA</td>\n",
       "      <td>2 Seasons</td>\n",
       "      <td>International TV Shows, TV Dramas, TV Mysteries</td>\n",
       "      <td>After crossing paths at a party, a Cape Town t...</td>\n",
       "    </tr>\n",
       "    <tr>\n",
       "      <th>2</th>\n",
       "      <td>s3</td>\n",
       "      <td>TV Show</td>\n",
       "      <td>Ganglands</td>\n",
       "      <td>Julien Leclercq</td>\n",
       "      <td>Sami Bouajila, Tracy Gotoas, Samuel Jouy, Nabi...</td>\n",
       "      <td>NaN</td>\n",
       "      <td>September 24, 2021</td>\n",
       "      <td>2021</td>\n",
       "      <td>TV-MA</td>\n",
       "      <td>1 Season</td>\n",
       "      <td>Crime TV Shows, International TV Shows, TV Act...</td>\n",
       "      <td>To protect his family from a powerful drug lor...</td>\n",
       "    </tr>\n",
       "    <tr>\n",
       "      <th>3</th>\n",
       "      <td>s4</td>\n",
       "      <td>TV Show</td>\n",
       "      <td>Jailbirds New Orleans</td>\n",
       "      <td>NaN</td>\n",
       "      <td>NaN</td>\n",
       "      <td>NaN</td>\n",
       "      <td>September 24, 2021</td>\n",
       "      <td>2021</td>\n",
       "      <td>TV-MA</td>\n",
       "      <td>1 Season</td>\n",
       "      <td>Docuseries, Reality TV</td>\n",
       "      <td>Feuds, flirtations and toilet talk go down amo...</td>\n",
       "    </tr>\n",
       "    <tr>\n",
       "      <th>4</th>\n",
       "      <td>s5</td>\n",
       "      <td>TV Show</td>\n",
       "      <td>Kota Factory</td>\n",
       "      <td>NaN</td>\n",
       "      <td>Mayur More, Jitendra Kumar, Ranjan Raj, Alam K...</td>\n",
       "      <td>India</td>\n",
       "      <td>September 24, 2021</td>\n",
       "      <td>2021</td>\n",
       "      <td>TV-MA</td>\n",
       "      <td>2 Seasons</td>\n",
       "      <td>International TV Shows, Romantic TV Shows, TV ...</td>\n",
       "      <td>In a city of coaching centers known to train I...</td>\n",
       "    </tr>\n",
       "  </tbody>\n",
       "</table>\n",
       "</div>"
      ],
      "text/plain": [
       "  show_id     type                  title         director  \\\n",
       "0      s1    Movie   Dick Johnson Is Dead  Kirsten Johnson   \n",
       "1      s2  TV Show          Blood & Water              NaN   \n",
       "2      s3  TV Show              Ganglands  Julien Leclercq   \n",
       "3      s4  TV Show  Jailbirds New Orleans              NaN   \n",
       "4      s5  TV Show           Kota Factory              NaN   \n",
       "\n",
       "                                                cast        country  \\\n",
       "0                                                NaN  United States   \n",
       "1  Ama Qamata, Khosi Ngema, Gail Mabalane, Thaban...   South Africa   \n",
       "2  Sami Bouajila, Tracy Gotoas, Samuel Jouy, Nabi...            NaN   \n",
       "3                                                NaN            NaN   \n",
       "4  Mayur More, Jitendra Kumar, Ranjan Raj, Alam K...          India   \n",
       "\n",
       "           date_added  release_year rating   duration  \\\n",
       "0  September 25, 2021          2020  PG-13     90 min   \n",
       "1  September 24, 2021          2021  TV-MA  2 Seasons   \n",
       "2  September 24, 2021          2021  TV-MA   1 Season   \n",
       "3  September 24, 2021          2021  TV-MA   1 Season   \n",
       "4  September 24, 2021          2021  TV-MA  2 Seasons   \n",
       "\n",
       "                                           listed_in  \\\n",
       "0                                      Documentaries   \n",
       "1    International TV Shows, TV Dramas, TV Mysteries   \n",
       "2  Crime TV Shows, International TV Shows, TV Act...   \n",
       "3                             Docuseries, Reality TV   \n",
       "4  International TV Shows, Romantic TV Shows, TV ...   \n",
       "\n",
       "                                         description  \n",
       "0  As her father nears the end of his life, filmm...  \n",
       "1  After crossing paths at a party, a Cape Town t...  \n",
       "2  To protect his family from a powerful drug lor...  \n",
       "3  Feuds, flirtations and toilet talk go down amo...  \n",
       "4  In a city of coaching centers known to train I...  "
      ]
     },
     "execution_count": 3,
     "metadata": {},
     "output_type": "execute_result"
    }
   ],
   "source": [
    "netflix_data.head()"
   ]
  },
  {
   "cell_type": "code",
   "execution_count": 4,
   "id": "35370cef",
   "metadata": {},
   "outputs": [
    {
     "data": {
      "text/plain": [
       "show_id            0\n",
       "type               0\n",
       "title              0\n",
       "director        2634\n",
       "cast             825\n",
       "country          831\n",
       "date_added        10\n",
       "release_year       0\n",
       "rating             4\n",
       "duration           3\n",
       "listed_in          0\n",
       "description        0\n",
       "dtype: int64"
      ]
     },
     "execution_count": 4,
     "metadata": {},
     "output_type": "execute_result"
    }
   ],
   "source": [
    "netflix_data.isnull().sum()"
   ]
  },
  {
   "cell_type": "code",
   "execution_count": 5,
   "id": "c4c37bc9",
   "metadata": {},
   "outputs": [],
   "source": [
    "netflix_data['director'].fillna('No info', inplace = True)\n",
    "netflix_data['cast'].fillna('No info', inplace = True)\n",
    "netflix_data['country'].fillna('No info', inplace = True)\n",
    "netflix_data['date_added'].fillna('No info', inplace = True)\n",
    "netflix_data['rating'].fillna('0', inplace = True)\n",
    "netflix_data['duration'].fillna('0', inplace = True)"
   ]
  },
  {
   "cell_type": "code",
   "execution_count": 6,
   "id": "a3cee8db",
   "metadata": {},
   "outputs": [
    {
     "data": {
      "text/plain": [
       "show_id         0\n",
       "type            0\n",
       "title           0\n",
       "director        0\n",
       "cast            0\n",
       "country         0\n",
       "date_added      0\n",
       "release_year    0\n",
       "rating          0\n",
       "duration        0\n",
       "listed_in       0\n",
       "description     0\n",
       "dtype: int64"
      ]
     },
     "execution_count": 6,
     "metadata": {},
     "output_type": "execute_result"
    }
   ],
   "source": [
    "netflix_data.isnull().sum()"
   ]
  },
  {
   "cell_type": "markdown",
   "id": "b7ac2675",
   "metadata": {},
   "source": [
    "#  15 Business Problems & Solutions\n",
    "\n",
    "1. Count the number of Movies vs TV Shows\n",
    "2. Find the most common rating for movies and TV shows\n",
    "3. List all movies released in a specific year (e.g., 2020)\n",
    "4. Find the top 5 countries with the most content on Netflix\n",
    "5. Identify the longest movie\n",
    "6. Find all the movies/TV shows by director 'Rajiv Chilaka'!\n",
    "7. List all TV shows with more than 5 seasons\n",
    "8. Count the number of content items in each genre\n",
    "9. Find each year and the average numbers of content release in India on netflix. \n",
    "    return top 5 year with highest avg content release!\n",
    "10. Categorize the content based on the presence of the keywords 'kill' and 'violence' in \n",
    "    the description field. Label content containing these keywords as 'Bad' and all other \n",
    "    content as 'Good'. Count how many items fall into each category."
   ]
  },
  {
   "cell_type": "code",
   "execution_count": 7,
   "id": "a5ffb50e",
   "metadata": {},
   "outputs": [
    {
     "name": "stdout",
     "output_type": "stream",
     "text": [
      "      type  count\n",
      "0    Movie   6131\n",
      "1  TV Show   2676\n"
     ]
    }
   ],
   "source": [
    "query = '''\n",
    "    SELECT type, COUNT(*) AS count\n",
    "    FROM netflix_data\n",
    "    GROUP BY type ;\n",
    "'''\n",
    "\n",
    "result = pd.read_sql(query, conn)\n",
    "print(result)"
   ]
  },
  {
   "cell_type": "code",
   "execution_count": 13,
   "id": "171c8e55",
   "metadata": {},
   "outputs": [
    {
     "name": "stdout",
     "output_type": "stream",
     "text": [
      "      type most_frequent_rating\n",
      "0    Movie                TV-MA\n",
      "1  TV Show                TV-MA\n"
     ]
    }
   ],
   "source": [
    "query = '''\n",
    "    WITH RatingCounts AS (\n",
    "    SELECT \n",
    "        type,\n",
    "        rating,\n",
    "        COUNT(*) AS rating_count\n",
    "    FROM netflix_data\n",
    "    GROUP BY type, rating\n",
    "),\n",
    "RankedRatings AS (\n",
    "    SELECT \n",
    "        type,\n",
    "        rating,\n",
    "        rating_count,\n",
    "        RANK() OVER (PARTITION BY type ORDER BY rating_count DESC) AS rank\n",
    "    FROM RatingCounts\n",
    ")\n",
    "SELECT \n",
    "    type,\n",
    "    rating AS most_frequent_rating\n",
    "FROM RankedRatings\n",
    "WHERE rank = 1;\n",
    "    \n",
    "    \n",
    "'''\n",
    "\n",
    "result = pd.read_sql(query, conn)\n",
    "print(result)"
   ]
  },
  {
   "cell_type": "code",
   "execution_count": 17,
   "id": "1a85a125",
   "metadata": {},
   "outputs": [
    {
     "name": "stdout",
     "output_type": "stream",
     "text": [
      "                                                 title\n",
      "0                                 Dick Johnson Is Dead\n",
      "1    Europe's Most Dangerous Man: Otto Skorzeny in ...\n",
      "2                                      Falsa identidad\n",
      "3                                        Sex Education\n",
      "4                              Tayo and Little Wizards\n",
      "..                                                 ...\n",
      "948                                   #cats_the_mewvie\n",
      "949                 Norm of the North: Family Vacation\n",
      "950                                        Straight Up\n",
      "951                                        Super Wings\n",
      "952          Surviving R. Kelly Part II: The Reckoning\n",
      "\n",
      "[953 rows x 1 columns]\n"
     ]
    }
   ],
   "source": [
    "query = '''\n",
    "    SELECT title\n",
    "    FROM netflix_data\n",
    "    WHERE release_year = 2020 ;\n",
    "'''\n",
    "\n",
    "result = pd.read_sql(query, conn)\n",
    "print(result)"
   ]
  },
  {
   "cell_type": "code",
   "execution_count": 34,
   "id": "b8bb1bd7",
   "metadata": {},
   "outputs": [
    {
     "name": "stdout",
     "output_type": "stream",
     "text": [
      "          country  count\n",
      "0   United States   2818\n",
      "1           India    972\n",
      "2            None    831\n",
      "3  United Kingdom    419\n",
      "4           Japan    245\n"
     ]
    }
   ],
   "source": [
    "query = '''\n",
    "    SELECT country, COUNT(*) AS count\n",
    "FROM netflix_data\n",
    "GROUP BY country\n",
    "ORDER BY count DESC\n",
    "LIMIT 5;\n",
    "\n",
    "'''\n",
    "\n",
    "result = pd.read_sql(query, conn)\n",
    "print(result)"
   ]
  },
  {
   "cell_type": "code",
   "execution_count": 28,
   "id": "bca152d2",
   "metadata": {},
   "outputs": [
    {
     "name": "stdout",
     "output_type": "stream",
     "text": [
      "                        title duration\n",
      "0  Black Mirror: Bandersnatch  312 min\n"
     ]
    }
   ],
   "source": [
    "query = '''\n",
    "    SELECT title, duration FROM netflix_data\n",
    "    WHERE type = 'Movie'\n",
    "    ORDER BY CAST(SUBSTRING_INDEX(duration, ' ', 1))\n",
    "    \n",
    "'''\n",
    "\n",
    "result = pd.read_sql(query, conn)\n",
    "print(result)"
   ]
  },
  {
   "cell_type": "code",
   "execution_count": 41,
   "id": "d704cd9b",
   "metadata": {},
   "outputs": [
    {
     "name": "stdout",
     "output_type": "stream",
     "text": [
      "   show_id   type                                              title  \\\n",
      "0     s407  Movie                       Chhota Bheem - Neeli Pahaadi   \n",
      "1     s408  Movie                              Chhota Bheem & Ganesh   \n",
      "2     s409  Movie                 Chhota Bheem & Krishna: Mayanagari   \n",
      "3     s410  Movie  Chhota Bheem & Krishna: Pataliputra- City of t...   \n",
      "4     s411  Movie                 Chhota Bheem And The Broken Amulet   \n",
      "5     s412  Movie             Chhota Bheem And The Crown of Valhalla   \n",
      "6     s413  Movie               Chhota Bheem and the Incan Adventure   \n",
      "7     s414  Movie                Chhota Bheem and The ShiNobi Secret   \n",
      "8     s415  Movie                           Chhota Bheem Aur Hanuman   \n",
      "9     s416  Movie                           Chhota Bheem aur Krishna   \n",
      "10    s417  Movie                Chhota Bheem aur Krishna vs Zimbara   \n",
      "11    s420  Movie                      Chhota Bheem: Bheem vs Aliens   \n",
      "12    s421  Movie               Chhota Bheem: Dholakpur to Kathmandu   \n",
      "13    s423  Movie                     Chhota Bheem: Journey to Petra   \n",
      "14    s424  Movie                    Chhota Bheem: Master of Shaolin   \n",
      "15    s425  Movie                  Chhota Bheem: The Rise of Kirmada   \n",
      "16   s2718  Movie              Chhota Bheem and the Curse of Damyaan   \n",
      "17   s6298  Movie                                          Bheemayan   \n",
      "18   s6646  Movie                              Dragonkala Ka Rahasya   \n",
      "\n",
      "         director                                               cast country  \\\n",
      "0   Rajiv Chilaka  Vatsal Dubey, Julie Tejwani, Rupa Bhimani, Jig...    None   \n",
      "1   Rajiv Chilaka  Vatsal Dubey, Julie Tejwani, Rupa Bhimani, Jig...    None   \n",
      "2   Rajiv Chilaka  Vatsal Dubey, Julie Tejwani, Rupa Bhimani, Jig...    None   \n",
      "3   Rajiv Chilaka  Vatsal Dubey, Julie Tejwani, Rupa Bhimani, Jig...    None   \n",
      "4   Rajiv Chilaka  Vatsal Dubey, Julie Tejwani, Rupa Bhimani, Jig...   India   \n",
      "5   Rajiv Chilaka  Vatsal Dubey, Julie Tejwani, Rupa Bhimani, Jig...    None   \n",
      "6   Rajiv Chilaka  Vatsal Dubey, Julie Tejwani, Rupa Bhimani, Jig...    None   \n",
      "7   Rajiv Chilaka  Vatsal Dubey, Julie Tejwani, Rupa Bhimani, Jig...    None   \n",
      "8   Rajiv Chilaka  Vatsal Dubey, Julie Tejwani, Rupa Bhimani, Jig...    None   \n",
      "9   Rajiv Chilaka  Vatsal Dubey, Julie Tejwani, Rupa Bhimani, Jig...   India   \n",
      "10  Rajiv Chilaka  Vatsal Dubey, Julie Tejwani, Rupa Bhimani, Jig...    None   \n",
      "11  Rajiv Chilaka  Vatsal Dubey, Julie Tejwani, Rupa Bhimani, Jig...    None   \n",
      "12  Rajiv Chilaka  Vatsal Dubey, Julie Tejwani, Rupa Bhimani, Jig...    None   \n",
      "13  Rajiv Chilaka  Vatsal Dubey, Julie Tejwani, Rupa Bhimani, Jig...    None   \n",
      "14  Rajiv Chilaka  Pooja Punabi, Mausam, Julie Tejwani, Rupa Bhim...    None   \n",
      "15  Rajiv Chilaka  Vatsal Dubey, Julie Tejwani, Rupa Bhimani, Jig...    None   \n",
      "16  Rajiv Chilaka  Kaustav Ghosh, Jigna Bhardwaj, Chutki, Rajesh ...   India   \n",
      "17  Rajiv Chilaka                                               None    None   \n",
      "18  Rajiv Chilaka                                               None    None   \n",
      "\n",
      "       date_added  release_year rating duration  \\\n",
      "0   July 22, 2021          2013  TV-Y7   64 min   \n",
      "1   July 22, 2021          2009  TV-Y7   68 min   \n",
      "2   July 22, 2021          2011  TV-Y7   67 min   \n",
      "3   July 22, 2021          2010  TV-Y7   66 min   \n",
      "4   July 22, 2021          2013  TV-Y7   64 min   \n",
      "5   July 22, 2021          2013  TV-Y7   64 min   \n",
      "6   July 22, 2021          2013  TV-Y7   65 min   \n",
      "7   July 22, 2021          2013  TV-Y7   64 min   \n",
      "8   July 22, 2021          2012  TV-Y7   68 min   \n",
      "9   July 22, 2021          2009  TV-Y7   68 min   \n",
      "10  July 22, 2021          2013  TV-Y7   64 min   \n",
      "11  July 22, 2021          2010  TV-Y7   69 min   \n",
      "12  July 22, 2021          2012  TV-Y7   70 min   \n",
      "13  July 22, 2021          2011  TV-Y7   68 min   \n",
      "14  July 22, 2021          2011  TV-Y7   74 min   \n",
      "15  July 22, 2021          2012  TV-Y7   68 min   \n",
      "16  April 1, 2020          2012  TV-Y7   87 min   \n",
      "17   May 10, 2019          2018   TV-Y   63 min   \n",
      "18  June 18, 2019          2018   TV-Y   68 min   \n",
      "\n",
      "                                  listed_in  \\\n",
      "0                  Children & Family Movies   \n",
      "1                  Children & Family Movies   \n",
      "2                  Children & Family Movies   \n",
      "3                  Children & Family Movies   \n",
      "4                  Children & Family Movies   \n",
      "5                  Children & Family Movies   \n",
      "6                  Children & Family Movies   \n",
      "7                  Children & Family Movies   \n",
      "8                  Children & Family Movies   \n",
      "9                  Children & Family Movies   \n",
      "10                 Children & Family Movies   \n",
      "11  Children & Family Movies, Sports Movies   \n",
      "12                 Children & Family Movies   \n",
      "13                 Children & Family Movies   \n",
      "14                 Children & Family Movies   \n",
      "15                 Children & Family Movies   \n",
      "16                 Children & Family Movies   \n",
      "17                 Children & Family Movies   \n",
      "18                 Children & Family Movies   \n",
      "\n",
      "                                          description  \n",
      "0   Things get spooky when Bheem and his buddies t...  \n",
      "1   Bheem and Lord Ganesha join forces to save Dho...  \n",
      "2   Young lord Krishna has fallen for demoness Maa...  \n",
      "3   Krishna needs Bheem’s help: The ruined city of...  \n",
      "4   When a stranger tries to steal an amulet from ...  \n",
      "5   To save the kingdom of Valhalla from invasion ...  \n",
      "6   When Dholakpur’s princess is kidnapped, Bheem ...  \n",
      "7   After learning of a samurai village under thre...  \n",
      "8   When two evil entities kidnap a princess in a ...  \n",
      "9   Centuries after the end of a conqueror's rule,...  \n",
      "10  A demon of darkness is plotting world dominati...  \n",
      "11  Space invaders have kidnapped Dholakpur’s king...  \n",
      "12  Bheem’s holiday in Nepal takes an unexpected t...  \n",
      "13  The king has been away to meet an old friend, ...  \n",
      "14  Summoned by a monk to help reclaim a temple fr...  \n",
      "15  Bheem and young lord Krishna team up to protec...  \n",
      "16  An evil demon who traded his freedom for immor...  \n",
      "17  It's Diwali! To celebrate, Chhota Bheem and hi...  \n",
      "18  Bheem helps to reopen Dragonpur's abandoned ma...  \n"
     ]
    }
   ],
   "source": [
    "query = '''\n",
    "    SELECT *\n",
    "FROM netflix_data\n",
    "WHERE director = 'Rajiv Chilaka';\n",
    "\n",
    "'''\n",
    "\n",
    "result = pd.read_sql(query, conn)\n",
    "print(result)"
   ]
  },
  {
   "cell_type": "code",
   "execution_count": 43,
   "id": "db929168",
   "metadata": {},
   "outputs": [
    {
     "name": "stdout",
     "output_type": "stream",
     "text": [
      "   show_id     type                          title         director  \\\n",
      "0       s9  TV Show  The Great British Baking Show  Andy Devonshire   \n",
      "1      s56  TV Show                      Nailed It             None   \n",
      "2      s66  TV Show                   Numberblocks             None   \n",
      "3      s68  TV Show              Saved by the Bell             None   \n",
      "4      s83  TV Show                        Lucifer             None   \n",
      "..     ...      ...                            ...              ...   \n",
      "94   s8190  TV Show         The Andy Griffith Show             None   \n",
      "95   s8379  TV Show                     The L Word             None   \n",
      "96   s8443  TV Show              The Office (U.S.)             None   \n",
      "97   s8558  TV Show                  The West Wing             None   \n",
      "98   s8711  TV Show                          Weeds             None   \n",
      "\n",
      "                                                 cast                country  \\\n",
      "0   Mel Giedroyc, Sue Perkins, Mary Berry, Paul Ho...         United Kingdom   \n",
      "1                         Nicole Byer, Jacques Torres          United States   \n",
      "2   Beth Chalmers, David Holt, Marcel McCalla, Ter...         United Kingdom   \n",
      "3   Mark-Paul Gosselaar, Tiffani Thiessen, Mario L...          United States   \n",
      "4   Tom Ellis, Lauren German, Kevin Alejandro, D.B...          United States   \n",
      "..                                                ...                    ...   \n",
      "94  Andy Griffith, Ron Howard, Don Knotts, Frances...          United States   \n",
      "95  Jennifer Beals, Leisha Hailey, Laurel Holloman...  Canada, United States   \n",
      "96  Steve Carell, John Krasinski, Jenna Fischer, R...          United States   \n",
      "97  Martin Sheen, Rob Lowe, Allison Janney, John S...          United States   \n",
      "98  Mary-Louise Parker, Hunter Parrish, Alexander ...          United States   \n",
      "\n",
      "            date_added  release_year rating   duration  \\\n",
      "0   September 24, 2021          2021  TV-14  9 Seasons   \n",
      "1   September 15, 2021          2021  TV-PG  6 Seasons   \n",
      "2   September 15, 2021          2021   TV-Y  6 Seasons   \n",
      "3   September 15, 2021          1994  TV-PG  9 Seasons   \n",
      "4   September 10, 2021          2021  TV-14  6 Seasons   \n",
      "..                 ...           ...    ...        ...   \n",
      "94        July 1, 2017          1967   TV-G  8 Seasons   \n",
      "95      March 20, 2018          2009  TV-MA  6 Seasons   \n",
      "96     January 1, 2016          2012  TV-14  9 Seasons   \n",
      "97   December 25, 2015          2005  TV-14  7 Seasons   \n",
      "98       April 1, 2014          2012  TV-MA  8 Seasons   \n",
      "\n",
      "                                 listed_in  \\\n",
      "0             British TV Shows, Reality TV   \n",
      "1                               Reality TV   \n",
      "2                                 Kids' TV   \n",
      "3                    Kids' TV, TV Comedies   \n",
      "4   Crime TV Shows, TV Comedies, TV Dramas   \n",
      "..                                     ...   \n",
      "94          Classic & Cult TV, TV Comedies   \n",
      "95            Romantic TV Shows, TV Dramas   \n",
      "96                             TV Comedies   \n",
      "97                               TV Dramas   \n",
      "98                  TV Comedies, TV Dramas   \n",
      "\n",
      "                                          description  \n",
      "0   A talented batch of amateur bakers face off in...  \n",
      "1   Home bakers with a terrible track record take ...  \n",
      "2   In a place called Numberland, math adds up to ...  \n",
      "3   From middle school to college, best friends Za...  \n",
      "4   Bored with being the Lord of Hell, the devil r...  \n",
      "..                                                ...  \n",
      "94  Homespun humor and easygoing Sheriff Andy Tayl...  \n",
      "95  This trailblazing series follows the tangled l...  \n",
      "96  This hit comedy chronicles the foibles of disg...  \n",
      "97  This powerful political epic chronicles the tr...  \n",
      "98  A suburban mother starts selling marijuana to ...  \n",
      "\n",
      "[99 rows x 12 columns]\n"
     ]
    }
   ],
   "source": [
    "query = '''\n",
    "    SELECT *\n",
    "FROM netflix_data\n",
    "WHERE type = 'TV Show' \n",
    "  AND CAST(substr(duration, 1, instr(duration, ' ') - 1) AS INTEGER) > 5;\n",
    "\n",
    "'''\n",
    "\n",
    "result = pd.read_sql(query, conn)\n",
    "print(result)"
   ]
  },
  {
   "cell_type": "code",
   "execution_count": 48,
   "id": "68fdfb4f",
   "metadata": {},
   "outputs": [
    {
     "name": "stdout",
     "output_type": "stream",
     "text": [
      "                        genre  total_content\n",
      "0        International Movies           2624\n",
      "1                      Dramas           1600\n",
      "2                    Comedies           1210\n",
      "3          Action & Adventure            859\n",
      "4               Documentaries            829\n",
      "..                        ...            ...\n",
      "68            Romantic Movies              3\n",
      "69  Spanish-Language TV Shows              2\n",
      "70        TV Sci-Fi & Fantasy              1\n",
      "71              Sports Movies              1\n",
      "72               LGBTQ Movies              1\n",
      "\n",
      "[73 rows x 2 columns]\n"
     ]
    }
   ],
   "source": [
    "query = '''\n",
    "    WITH RECURSIVE split_genres(listed_in, genre) AS (\n",
    "    SELECT\n",
    "        listed_in,\n",
    "        substr(listed_in, 1, instr(listed_in || ',', ',') - 1) AS genre\n",
    "    FROM netflix_data\n",
    "    UNION ALL\n",
    "    SELECT\n",
    "        substr(listed_in, instr(listed_in || ',', ',') + 1),\n",
    "        substr(substr(listed_in, instr(listed_in || ',', ',') + 1), 1, \n",
    "        instr(substr(listed_in, instr(listed_in || ',', ',') + 1) || ',', ',') - 1)\n",
    "    FROM split_genres\n",
    "    WHERE listed_in != ''\n",
    ")\n",
    "SELECT\n",
    "    genre,\n",
    "    COUNT(*) AS total_content\n",
    "FROM split_genres\n",
    "WHERE genre != ''\n",
    "GROUP BY genre\n",
    "ORDER BY total_content DESC;\n",
    "\n",
    "\n",
    "'''\n",
    "\n",
    "result = pd.read_sql(query, conn)\n",
    "print(result)"
   ]
  },
  {
   "cell_type": "code",
   "execution_count": 50,
   "id": "91d0791a",
   "metadata": {},
   "outputs": [
    {
     "name": "stdout",
     "output_type": "stream",
     "text": [
      "   release_year  avg_content\n",
      "0          2017        101.0\n",
      "1          2018         94.0\n",
      "2          2019         87.0\n",
      "3          2020         75.0\n",
      "4          2016         73.0\n"
     ]
    }
   ],
   "source": [
    "query = '''\n",
    "    SELECT release_year, AVG(content_count) AS avg_content\n",
    "FROM (\n",
    "    SELECT release_year, COUNT(*) AS content_count\n",
    "    FROM netflix_data\n",
    "    WHERE country = 'India'\n",
    "    GROUP BY release_year\n",
    ") AS yearly_data\n",
    "GROUP BY release_year\n",
    "ORDER BY avg_content DESC\n",
    "LIMIT 5;\n",
    "\n",
    "'''\n",
    "\n",
    "result = pd.read_sql(query, conn)\n",
    "print(result)"
   ]
  },
  {
   "cell_type": "code",
   "execution_count": 55,
   "id": "ded7b949",
   "metadata": {},
   "outputs": [
    {
     "name": "stdout",
     "output_type": "stream",
     "text": [
      "  content_rating  count\n",
      "0            Bad    342\n",
      "1           Good   8465\n"
     ]
    }
   ],
   "source": [
    "query = '''\n",
    "    SELECT \n",
    "    CASE \n",
    "        WHEN description LIKE '%kill%' OR description LIKE '%violence%' THEN 'Bad'\n",
    "        ELSE 'Good'\n",
    "    END AS content_rating,\n",
    "    COUNT(*) AS count\n",
    "FROM netflix_data\n",
    "GROUP BY content_rating;\n",
    "\n",
    "'''\n",
    "\n",
    "result = pd.read_sql(query, conn)\n",
    "print(result)"
   ]
  }
 ],
 "metadata": {
  "kernelspec": {
   "display_name": "Python 3 (ipykernel)",
   "language": "python",
   "name": "python3"
  },
  "language_info": {
   "codemirror_mode": {
    "name": "ipython",
    "version": 3
   },
   "file_extension": ".py",
   "mimetype": "text/x-python",
   "name": "python",
   "nbconvert_exporter": "python",
   "pygments_lexer": "ipython3",
   "version": "3.10.9"
  }
 },
 "nbformat": 4,
 "nbformat_minor": 5
}
